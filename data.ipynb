{
 "cells": [
  {
   "cell_type": "code",
   "execution_count": null,
   "metadata": {},
   "outputs": [],
   "source": [
    "import pandas as pd\n",
    "! pip install xlrd\n",
    "file1 = './Data/jester-data-1.xls'\n",
    "file2 = './Data/jester-data-2.xls'\n",
    "file3 = './Data/jester-data-3.xls'\n",
    "\n",
    "df1 = pd.read_excel(file1, header = None)\n",
    "df2 = pd.read_excel(file2, header = None)\n",
    "df3 = pd.read_excel(file3, header = None)\n",
    "merged_df = pd.concat([df1, df2, df3], axis=0, ignore_index=True)\n",
    "merged_df.to_csv('./Data/merged_data.csv', index=False)"
   ]
  }
 ],
 "metadata": {
  "kernelspec": {
   "display_name": "Python 3.9.10 64-bit ('3.9.10')",
   "language": "python",
   "name": "python3"
  },
  "language_info": {
   "name": "python",
   "version": "3.9.10"
  },
  "orig_nbformat": 4,
  "vscode": {
   "interpreter": {
    "hash": "3c9c1cb92ab039c53a0f0c6a3a1c445ea784bd0a545c5bb81dae74e9464ebef1"
   }
  }
 },
 "nbformat": 4,
 "nbformat_minor": 2
}
